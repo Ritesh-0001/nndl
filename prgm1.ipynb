{
 "cells": [
  {
   "cell_type": "code",
   "execution_count": 1,
   "id": "a0d5bcd1-94a2-4b5f-8621-933b17e395ed",
   "metadata": {},
   "outputs": [
    {
     "name": "stdout",
     "output_type": "stream",
     "text": [
      "AND Gate Predictions:\n",
      "[0 0] -> 0.0000\n",
      "[0 1] -> 0.0200\n",
      "[1 0] -> 0.0200\n",
      "[1 1] -> 0.9651\n",
      "\n",
      "OR Gate Predictions:\n",
      "[0 0] -> 0.0204\n",
      "[0 1] -> 0.9897\n",
      "[1 0] -> 0.9897\n",
      "[1 1] -> 1.0000\n"
     ]
    }
   ],
   "source": [
    "import numpy as np\n",
    "\n",
    "# Sigmoid activation function\n",
    "def sigmoid(x):\n",
    "    return 1 / (1 + np.exp(-x))\n",
    "\n",
    "# Derivative of sigmoid (for training purposes, if needed)\n",
    "def sigmoid_derivative(x):\n",
    "    return sigmoid(x) * (1 - sigmoid(x))\n",
    "\n",
    "# Perceptron class\n",
    "class Perceptron:\n",
    "    def __init__(self, input_size, learning_rate=0.1, epochs=1000):\n",
    "        self.weights = np.random.rand(input_size)\n",
    "        self.bias = np.random.rand()\n",
    "        self.learning_rate = learning_rate\n",
    "        self.epochs = epochs\n",
    "\n",
    "    def predict(self, inputs):\n",
    "        z = np.dot(inputs, self.weights) + self.bias\n",
    "        return sigmoid(z)\n",
    "\n",
    "    def train(self, training_inputs, labels):\n",
    "        for epoch in range(self.epochs):\n",
    "            for inputs, label in zip(training_inputs, labels):\n",
    "                prediction = self.predict(inputs)\n",
    "                error = label - prediction\n",
    "                self.weights += self.learning_rate * error * inputs * sigmoid_derivative(prediction)\n",
    "                self.bias += self.learning_rate * error * sigmoid_derivative(prediction)\n",
    "\n",
    "# Training data for AND gate\n",
    "and_inputs = np.array([[0, 0], [0, 1], [1, 0], [1, 1]])\n",
    "and_labels = np.array([0, 0, 0, 1])\n",
    "\n",
    "# Training data for OR gate\n",
    "or_inputs = np.array([[0, 0], [0, 1], [1, 0], [1, 1]])\n",
    "or_labels = np.array([0, 1, 1, 1])\n",
    "\n",
    "# Create perceptron for AND gate\n",
    "and_perceptron = Perceptron(input_size=2, learning_rate=0.1, epochs=10000)\n",
    "and_perceptron.train(and_inputs, and_labels)\n",
    "\n",
    "# Create perceptron for OR gate\n",
    "or_perceptron = Perceptron(input_size=2, learning_rate=0.1, epochs=10000)\n",
    "or_perceptron.train(or_inputs, or_labels)\n",
    "\n",
    "# Test the AND gate\n",
    "print(\"AND Gate Predictions:\")\n",
    "for inputs in and_inputs:\n",
    "    print(f\"{inputs} -> {and_perceptron.predict(inputs):.4f}\")\n",
    "\n",
    "# Test the OR gate\n",
    "print(\"\\nOR Gate Predictions:\")\n",
    "for inputs in or_inputs:\n",
    "    print(f\"{inputs} -> {or_perceptron.predict(inputs):.4f}\")\n"
   ]
  },
  {
   "cell_type": "code",
   "execution_count": null,
   "id": "b94276a7-e443-4168-80ea-20cdc5036242",
   "metadata": {},
   "outputs": [],
   "source": []
  }
 ],
 "metadata": {
  "kernelspec": {
   "display_name": "Python 3 (ipykernel)",
   "language": "python",
   "name": "python3"
  },
  "language_info": {
   "codemirror_mode": {
    "name": "ipython",
    "version": 3
   },
   "file_extension": ".py",
   "mimetype": "text/x-python",
   "name": "python",
   "nbconvert_exporter": "python",
   "pygments_lexer": "ipython3",
   "version": "3.11.3"
  }
 },
 "nbformat": 4,
 "nbformat_minor": 5
}
