{
 "cells": [
  {
   "cell_type": "code",
   "execution_count": 1,
   "id": "d6a73dc5-0f4c-4682-8fc2-5403f74065b2",
   "metadata": {},
   "outputs": [
    {
     "name": "stdout",
     "output_type": "stream",
     "text": [
      "Epoch 1/5\n",
      "\u001b[1m3176/3176\u001b[0m \u001b[32m━━━━━━━━━━━━━━━━━━━━\u001b[0m\u001b[37m\u001b[0m \u001b[1m142s\u001b[0m 43ms/step - accuracy: 0.0371 - loss: 7.8418\n",
      "Epoch 2/5\n",
      "\u001b[1m3176/3176\u001b[0m \u001b[32m━━━━━━━━━━━━━━━━━━━━\u001b[0m\u001b[37m\u001b[0m \u001b[1m133s\u001b[0m 42ms/step - accuracy: 0.0481 - loss: 6.7615\n",
      "Epoch 3/5\n",
      "\u001b[1m3176/3176\u001b[0m \u001b[32m━━━━━━━━━━━━━━━━━━━━\u001b[0m\u001b[37m\u001b[0m \u001b[1m131s\u001b[0m 41ms/step - accuracy: 0.0495 - loss: 6.6820\n",
      "Epoch 4/5\n",
      "\u001b[1m3176/3176\u001b[0m \u001b[32m━━━━━━━━━━━━━━━━━━━━\u001b[0m\u001b[37m\u001b[0m \u001b[1m143s\u001b[0m 45ms/step - accuracy: 0.0507 - loss: 6.6504\n",
      "Epoch 5/5\n",
      "\u001b[1m3176/3176\u001b[0m \u001b[32m━━━━━━━━━━━━━━━━━━━━\u001b[0m\u001b[37m\u001b[0m \u001b[1m126s\u001b[0m 40ms/step - accuracy: 0.0498 - loss: 6.6653\n",
      "Model Accuracy: 0.0525\n"
     ]
    },
    {
     "name": "stdin",
     "output_type": "stream",
     "text": [
      "Enter a sentence:  ritesh\n"
     ]
    },
    {
     "name": "stdout",
     "output_type": "stream",
     "text": [
      "\u001b[1m1/1\u001b[0m \u001b[32m━━━━━━━━━━━━━━━━━━━━\u001b[0m\u001b[37m\u001b[0m \u001b[1m1s\u001b[0m 546ms/step\n",
      "Next word prediction: the\n"
     ]
    },
    {
     "data": {
      "image/png": "[encoded data removed]",
      "text/plain": [
       "<Figure size 640x480 with 1 Axes>"
      ]
     },
     "metadata": {},
     "output_type": "display_data"
    }
   ],
   "source": [
    "\n",
    "\n",
    "import numpy as np\n",
    "from tensorflow.keras.preprocessing.text import Tokenizer\n",
    "from tensorflow.keras.preprocessing.sequence import pad_sequences\n",
    "from tensorflow.keras.utils import to_categorical\n",
    "from tensorflow.keras.models import Sequential\n",
    "from tensorflow.keras.layers import Embedding, LSTM, Dense\n",
    "from tensorflow.keras.optimizers import Adam\n",
    "from tensorflow.keras.callbacks import EarlyStopping\n",
    "\n",
    "# Load dataset\n",
    "def load_text(file_path):\n",
    "    with open(file_path, 'r', encoding='utf-8') as f:\n",
    "        text = f.read()\n",
    "    return text.lower()  # Convert text to lowercase\n",
    "\n",
    "# Dataset path\n",
    "file_path = 'C:\\\\Users\\\\rites\\\\OneDrive\\\\Desktop\\\\New folder (2)\\\\program5dataset.txt'  # Replace with the path to your dataset\n",
    "text = load_text(file_path)\n",
    "\n",
    "# Preprocess text data\n",
    "tokenizer = Tokenizer()\n",
    "tokenizer.fit_on_texts([text])  # Fit tokenizer on the entire dataset (text)\n",
    "total_words = len(tokenizer.word_index) + 1  # Get total words in vocabulary\n",
    "\n",
    "# Create input sequences\n",
    "input_sequences = []\n",
    "for line in text.split('\\n'):\n",
    "    token_list = tokenizer.texts_to_sequences([line])[0]  # Convert line to sequence of integers\n",
    "    for i in range(1, len(token_list)):\n",
    "        n_gram_sequence = token_list[:i+1]  # Create n-grams of length i+1\n",
    "        input_sequences.append(n_gram_sequence)  # Append to input_sequences list\n",
    "\n",
    "# Pad sequences and create predictors and label\n",
    "max_sequence_len = max([len(seq) for seq in input_sequences])\n",
    "input_sequences = np.array(pad_sequences(input_sequences, maxlen=max_sequence_len, padding='pre'))\n",
    "X, y = input_sequences[:, :-1], input_sequences[:, -1]\n",
    "y = to_categorical(y, num_classes=total_words)\n",
    "\n",
    "# Build the LSTM model\n",
    "model = Sequential()\n",
    "model.add(Embedding(total_words, 100))  # Removed input_length as it’s inferred automatically\n",
    "model.add(LSTM(150, return_sequences=True))\n",
    "model.add(LSTM(100))\n",
    "model.add(Dense(total_words, activation='softmax'))\n",
    "model.compile(loss='categorical_crossentropy', optimizer=Adam(learning_rate=0.01), metrics=['accuracy'])\n",
    "\n",
    "# Train the model\n",
    "early_stop = EarlyStopping(monitor='loss', patience=3)\n",
    "history = model.fit(X, y, epochs=5, verbose=1, callbacks=[early_stop])\n",
    "\n",
    "# Evaluate model accuracy\n",
    "loss, accuracy = model.evaluate(X, y, verbose=0)\n",
    "print(f'Model Accuracy: {accuracy:.4f}')\n",
    "\n",
    "# Predict the next word based on user input\n",
    "def predict_next_word(model, tokenizer, text, max_sequence_len):\n",
    "    # Convert input text to sequence of integers\n",
    "    token_list = tokenizer.texts_to_sequences([text])[0]\n",
    "    token_list = pad_sequences([token_list], maxlen=max_sequence_len - 1, padding='pre')\n",
    "\n",
    "    # Predict the next word\n",
    "    predicted = np.argmax(model.predict(token_list), axis=-1)\n",
    "\n",
    "    # Map the predicted integer back to the word\n",
    "    for word, index in tokenizer.word_index.items():\n",
    "        if index == predicted:\n",
    "            return word\n",
    "    return \"\"\n",
    "\n",
    "# Function to interact with the user and predict next word\n",
    "def get_user_input_and_predict():\n",
    "    user_input = input(\"Enter a sentence: \")  # Take user input\n",
    "    next_word = predict_next_word(model, tokenizer, user_input, max_sequence_len)\n",
    "    print(f\"Next word prediction: {next_word}\")\n",
    "\n",
    "# Get user input and predict the next word\n",
    "get_user_input_and_predict()\n",
    "\n",
    "# Plot training loss\n",
    "import matplotlib.pyplot as plt\n",
    "plt.plot(history.history['loss'], label='Training Loss')\n",
    "plt.xlabel('Epochs')\n",
    "plt.ylabel('Loss')\n",
    "plt.legend()\n",
    "plt.title('Training Loss Over Epochs')\n",
    "plt.show()\n",
    "\n"
   ]
  },
  {
   "cell_type": "code",
   "execution_count": null,
   "id": "dd004ff5-7a4d-43e6-95d0-97a2b6104d9e",
   "metadata": {},
   "outputs": [],
   "source": []
  }
 ],
 "metadata": {
  "kernelspec": {
   "display_name": "Python 3 (ipykernel)",
   "language": "python",
   "name": "python3"
  },
  "language_info": {
   "codemirror_mode": {
    "name": "ipython",
    "version": 3
   },
   "file_extension": ".py",
   "mimetype": "text/x-python",
   "name": "python",
   "nbconvert_exporter": "python",
   "pygments_lexer": "ipython3",
   "version": "3.11.3"
  }
 },
 "nbformat": 4,
 "nbformat_minor": 5
}
